{
  "nbformat": 4,
  "nbformat_minor": 0,
  "metadata": {
    "colab": {
      "name": "Untitled2.ipynb",
      "provenance": []
    },
    "kernelspec": {
      "name": "python3",
      "display_name": "Python 3"
    },
    "accelerator": "GPU"
  },
  "cells": [
    {
      "cell_type": "code",
      "metadata": {
        "colab": {
          "base_uri": "https://localhost:8080/"
        },
        "id": "apxDUkU7TaEg",
        "outputId": "8d865ffc-8581-4594-c82f-229d4f257b3b"
      },
      "source": [
        "! pip install pycuda\n",
        "\n",
        "import numpy as np\n",
        "import time\n",
        "\n",
        "import pycuda.gpuarray as gpuarray\n",
        "import pycuda.autoinit\n",
        "from  pycuda import  driver\n",
        "from pycuda.compiler import SourceModule\n",
        "from pycuda.curandom import rand as curand"
      ],
      "execution_count": 19,
      "outputs": [
        {
          "output_type": "stream",
          "text": [
            "Requirement already satisfied: pycuda in /usr/local/lib/python3.6/dist-packages (2020.1)\n",
            "Requirement already satisfied: mako in /usr/local/lib/python3.6/dist-packages (from pycuda) (1.1.3)\n",
            "Requirement already satisfied: pytools>=2011.2 in /usr/local/lib/python3.6/dist-packages (from pycuda) (2020.4.4)\n",
            "Requirement already satisfied: decorator>=3.2.0 in /usr/local/lib/python3.6/dist-packages (from pycuda) (4.4.2)\n",
            "Requirement already satisfied: appdirs>=1.4.0 in /usr/local/lib/python3.6/dist-packages (from pycuda) (1.4.4)\n",
            "Requirement already satisfied: MarkupSafe>=0.9.2 in /usr/local/lib/python3.6/dist-packages (from mako->pycuda) (1.1.1)\n",
            "Requirement already satisfied: numpy>=1.6.0 in /usr/local/lib/python3.6/dist-packages (from pytools>=2011.2->pycuda) (1.18.5)\n",
            "Requirement already satisfied: dataclasses>=0.7; python_version <= \"3.6\" in /usr/local/lib/python3.6/dist-packages (from pytools>=2011.2->pycuda) (0.8)\n"
          ],
          "name": "stdout"
        }
      ]
    },
    {
      "cell_type": "code",
      "metadata": {
        "id": "ijeqjOXtODeU"
      },
      "source": [
        "mod = SourceModule(\"\"\"\r\n",
        "  __global__ void pi_calc_gpu(double *x, double *y, double *result_gpu, const int n) {\r\n",
        "        \r\n",
        "        int gpu_count = 0;\r\n",
        "        int idx = threadIdx.x + (blockIdx.x*blockDim.x);\r\n",
        "        int thread_count = gridDim.x*blockDim.x;\r\n",
        "\r\n",
        "        for (int i=idx; i<n; i += thread_count) {\r\n",
        "          int V;\r\n",
        "          V = pow(x[i], 2) + pow(y[i], 2);\r\n",
        "          if (V < 1)\r\n",
        "            gpu_count += 1;\r\n",
        "          \r\n",
        "        }\r\n",
        "\r\n",
        "        atomicAdd(result_gpu, gpu_count);\r\n",
        "  }    \r\n",
        "\"\"\")"
      ],
      "execution_count": 20,
      "outputs": []
    },
    {
      "cell_type": "code",
      "metadata": {
        "id": "7v5NyK1QOUq2",
        "colab": {
          "base_uri": "https://localhost:8080/"
        },
        "outputId": "672bd203-6d09-4701-a804-6d87a0223d7b"
      },
      "source": [
        "cpu_count = 0\r\n",
        "def pi_calc_cpu(X, Y, N):\r\n",
        "  V = X ** 2 + Y ** 2\r\n",
        "  gen_cpu = [cpu_count + 1 for i in range(N) if V[i] < 1]\r\n",
        "  res = 4/N * sum(gen_cpu)\r\n",
        "  return res\r\n",
        "\r\n",
        "N = 65536*16\r\n",
        "X, Y = np.random.random(N), np.random.random(N)\r\n",
        "block = (256, 1, 1)\r\n",
        "grid = (int(N/(128 * block[0])), 1)\r\n",
        "\r\n",
        "cpu_start = time.time()\r\n",
        "res_cpu = pi_calc_cpu(X, Y, N)\r\n",
        "cpu_time = time.time() - cpu_start\r\n",
        "print('Число PI на CPU: ', result_cpu)\r\n",
        "print('Время на CPU: ', round(cpu_time, 4))\r\n",
        "\r\n",
        "# т.к. массивы точек являются одномерными\r\n",
        "block = (128, 1, 1)\r\n",
        "grid = (int(N/(128 * block[0])), 1)\r\n",
        "\r\n",
        "res_gpu = gpuarray.zeros((1,), dtype=np.double)\r\n",
        "res_gpu  = res_gpu.get()\r\n",
        "\r\n",
        "calc_gpu = mod.get_function(\"pi_calc_gpu\")\r\n",
        "\r\n",
        "gpu_start = time.time()\r\n",
        "calc_gpu(driver.In(X), driver.In(Y), driver.Out(res_gpu), np.int32(N), block = block, grid = grid)\r\n",
        "driver.Context.synchronize()\r\n",
        "gpu_time = time.time() - gpu_start\r\n",
        "\r\n",
        "res_gpu =  res_gpu[0] * 4/N\r\n",
        "print('Число PI на GPU: ', res_gpu)\r\n",
        "print('Время на GPU: ', round(gpu_time, 4))\r\n",
        "print('Ускорение: ', cpu_time/gpu_time)\r\n",
        "print('Сравнение с PI: ')\r\n",
        "print('На GPU:', abs(np.pi -  result_gpu) )\r\n",
        "print('На CPU:', abs(np.pi -  result_cpu) )"
      ],
      "execution_count": 21,
      "outputs": [
        {
          "output_type": "stream",
          "text": [
            "Число PI на CPU:  3.1413002014160156\n",
            "Время на CPU:  0.3932\n",
            "Число PI на GPU:  3.145000457763672\n",
            "Время на GPU:  0.0108\n",
            "Ускорение:  36.53720564453601\n",
            "Сравнение с PI: \n",
            "На GPU: 0.000292452173777491\n",
            "На CPU: 0.000292452173777491\n"
          ],
          "name": "stdout"
        }
      ]
    }
  ]
}